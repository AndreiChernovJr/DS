{
 "cells": [
  {
   "cell_type": "code",
   "execution_count": 26,
   "metadata": {},
   "outputs": [],
   "source": [
    "import pandas as pd\n",
    "import pickle"
   ]
  },
  {
   "cell_type": "code",
   "execution_count": 38,
   "metadata": {},
   "outputs": [],
   "source": [
    "json_f = [{\n",
    "        \"st_id\": \"084a8a9aa8cced9175bd07bc44998e75\",\n",
    "        \"pr_sku_id\": \"88feeeb024d3f69da7322d76b7b53744\"},\n",
    "    { \"st_id\": \"084a8a9aa8cced9175bd07bc44998e75\",\n",
    "     \"pr_sku_id\": \"88feeeb024d3f69da7322d76b7b53744\"}]"
   ]
  },
  {
   "cell_type": "code",
   "execution_count": 39,
   "metadata": {},
   "outputs": [],
   "source": [
    "dataset = pd.read_csv('/Users/maiiayakusheva/Downloads/set_for_prediction.csv').drop('date.1', axis=1)"
   ]
  },
  {
   "cell_type": "code",
   "execution_count": 40,
   "metadata": {},
   "outputs": [],
   "source": [
    "dataset.date = pd.to_datetime(dataset.date)"
   ]
  },
  {
   "cell_type": "code",
   "execution_count": 60,
   "metadata": {},
   "outputs": [],
   "source": [
    "def func(json, start, end):\n",
    "    j_df = pd.DataFrame(json)\n",
    "    date = pd.DataFrame({'date':pd.date_range(start, end, freq='D')})\n",
    "    a = pd.concat([j_df, date], axis=1)\n",
    "    b = a.rename(columns={'st_id': 'st_id_key', 'pr_sku_id': 'pr_sku_id_key'})\n",
    "    c = b.merge(dataset, on=['st_id_key', 'pr_sku_id_key', 'date'])\\\n",
    "        .drop(['st_id_key', 'pr_sku_id_key'], axis=1)\n",
    "    c.index = b.date\n",
    "    c.drop('date', axis=1, inplace=True)\n",
    "    loaded_model = pickle.load(open('finalized_model.sav', 'rb'))\n",
    "    a['preds'] = loaded_model.predict(c)\n",
    "    return a.drop('date', axis=1).to_json(index=False, orient='split')\n",
    "   \n",
    "    "
   ]
  },
  {
   "cell_type": "code",
   "execution_count": 61,
   "metadata": {},
   "outputs": [
    {
     "data": {
      "text/plain": [
       "'{\"columns\":[\"st_id\",\"pr_sku_id\",\"preds\"],\"data\":[[\"084a8a9aa8cced9175bd07bc44998e75\",\"88feeeb024d3f69da7322d76b7b53744\",16.8160195548],[\"084a8a9aa8cced9175bd07bc44998e75\",\"88feeeb024d3f69da7322d76b7b53744\",16.8160195548]]}'"
      ]
     },
     "execution_count": 61,
     "metadata": {},
     "output_type": "execute_result"
    }
   ],
   "source": [
    "func(json_f, '2023-07-19', '2023-07-20')"
   ]
  },
  {
   "cell_type": "code",
   "execution_count": null,
   "metadata": {},
   "outputs": [],
   "source": []
  },
  {
   "cell_type": "code",
   "execution_count": null,
   "metadata": {},
   "outputs": [],
   "source": []
  },
  {
   "cell_type": "code",
   "execution_count": null,
   "metadata": {},
   "outputs": [],
   "source": []
  },
  {
   "cell_type": "code",
   "execution_count": null,
   "metadata": {},
   "outputs": [],
   "source": []
  }
 ],
 "metadata": {
  "kernelspec": {
   "display_name": "Python 3.9.13 64-bit",
   "language": "python",
   "name": "python3"
  },
  "language_info": {
   "codemirror_mode": {
    "name": "ipython",
    "version": 3
   },
   "file_extension": ".py",
   "mimetype": "text/x-python",
   "name": "python",
   "nbconvert_exporter": "python",
   "pygments_lexer": "ipython3",
   "version": "3.9.13"
  },
  "orig_nbformat": 4,
  "vscode": {
   "interpreter": {
    "hash": "aee8b7b246df8f9039afb4144a1f6fd8d2ca17a180786b69acc140d282b71a49"
   }
  }
 },
 "nbformat": 4,
 "nbformat_minor": 2
}
