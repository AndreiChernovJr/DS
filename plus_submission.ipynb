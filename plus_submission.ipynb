{
 "cells": [
  {
   "cell_type": "code",
   "execution_count": 201,
   "metadata": {},
   "outputs": [],
   "source": [
    "import warnings\n",
    "\n",
    "import pandas as pd\n",
    "import numpy as np\n",
    "\n",
    "from sklearn.linear_model import LogisticRegression, LinearRegression\n",
    "from sklearn.metrics import make_scorer, precision_score, r2_score\n",
    "from sklearn.model_selection import train_test_split, GridSearchCV, TimeSeriesSplit\n",
    "from sklearn.preprocessing import StandardScaler, TargetEncoder\n",
    "\n",
    "from lightgbm import LGBMRegressor\n",
    "\n",
    "import holidays\n",
    "import datetime as DT\n",
    "\n",
    "warnings.filterwarnings('ignore')\n",
    "\n",
    "random_state = 42"
   ]
  },
  {
   "cell_type": "code",
   "execution_count": 202,
   "metadata": {},
   "outputs": [],
   "source": [
    "try:\n",
    "    df = pd.read_csv('/Users/maiiayakusheva/Downloads/sp_sales_task/sales_df_train.csv')\n",
    "except:\n",
    "    df = pd.read_csv('/sales_df_train.csv')"
   ]
  },
  {
   "cell_type": "code",
   "execution_count": 203,
   "metadata": {},
   "outputs": [],
   "source": [
    "df.date = pd.to_datetime(df.date)\n",
    "df = df[((df.pr_sales_in_units!=0)&(df.pr_sales_in_rub!=0))|\\\n",
    "    ((df.pr_sales_in_units==0)&(df.pr_sales_in_rub==0))]\n",
    "df = df[(df.pr_sales_in_units>=0) & (df.pr_promo_sales_in_units>=0) & (df.pr_sales_in_rub>=0)\\\n",
    "     & (df.pr_promo_sales_in_rub>=0)]"
   ]
  },
  {
   "cell_type": "code",
   "execution_count": 204,
   "metadata": {},
   "outputs": [],
   "source": [
    "try:\n",
    "    prod = pd.read_csv('/Users/maiiayakusheva/Downloads/sp_sales_task/pr_df.csv')\n",
    "except:\n",
    "    prod = pd.read_csv('/pr_df.csv')"
   ]
  },
  {
   "cell_type": "code",
   "execution_count": 205,
   "metadata": {},
   "outputs": [],
   "source": [
    "try:\n",
    "    station = pd.read_csv('/Users/maiiayakusheva/Downloads/sp_sales_task/st_df.csv')\n",
    "except:\n",
    "    station = pd.read_csv('/st_df.csv')"
   ]
  },
  {
   "cell_type": "code",
   "execution_count": 206,
   "metadata": {},
   "outputs": [],
   "source": [
    "data = df.merge(prod, on='pr_sku_id').merge(station, on='st_id')"
   ]
  },
  {
   "cell_type": "code",
   "execution_count": 207,
   "metadata": {},
   "outputs": [],
   "source": [
    "data = data[data.st_is_active==1]"
   ]
  },
  {
   "cell_type": "code",
   "execution_count": 208,
   "metadata": {},
   "outputs": [],
   "source": [
    "data=data[(data.st_id!='bd470ca955d9497bbcb808e59952fffc')&(data.st_id!='53e19f3dbb211f20b20b45668303c1b6')]"
   ]
  },
  {
   "cell_type": "code",
   "execution_count": 209,
   "metadata": {},
   "outputs": [],
   "source": [
    "holidays_list = []\n",
    "for i in holidays.RUS(years=[2022, 2023]).items():\n",
    "    holidays_list.append(str(i[0]))\n",
    "holidays_list = holidays_list + ['2022-12-31', '2022-12-30', '2022-12-29', '2022-02-22', '2022-03-07',\n",
    " '2023-02-22', '2023-02-23', '2023-03-07']"
   ]
  },
  {
   "cell_type": "code",
   "execution_count": 210,
   "metadata": {},
   "outputs": [],
   "source": [
    "big_sales = data[data.pr_sales_in_units>np.percentile(data.pr_sales_in_units, 95)]\\\n",
    "    [['date', 'pr_sales_in_units']]\n",
    "big_sales['is_holiday'] = [1 if str(val).split()[0] in holidays_list else 0 for val in big_sales.date]\n",
    "outliers_threshold = np.percentile(data.pr_sales_in_units, 95)"
   ]
  },
  {
   "cell_type": "code",
   "execution_count": 211,
   "metadata": {},
   "outputs": [],
   "source": [
    "data.pr_uom_id = data.pr_uom_id.astype(str)\n",
    "data.st_type_format_id = data.st_type_format_id.astype(str)\n",
    "data.st_type_loc_id = data.st_type_loc_id.astype(str)\n",
    "data.st_type_size_id = data.st_type_size_id.astype(str)"
   ]
  },
  {
   "cell_type": "code",
   "execution_count": 212,
   "metadata": {},
   "outputs": [],
   "source": [
    "data.drop(['pr_sales_type_id', 'pr_promo_sales_in_units', 'pr_promo_sales_in_rub', 'st_is_active'],\n",
    " axis=1, inplace=True)"
   ]
  },
  {
   "cell_type": "code",
   "execution_count": 213,
   "metadata": {},
   "outputs": [],
   "source": [
    "start_date = '2022-08-01'\n",
    "end_date = '2023-07-18'\n",
    "date_df = pd.DataFrame({'date':pd.date_range(start=start_date, end=end_date, freq='D')})\n",
    "seq_df = data[['st_id', 'pr_sku_id', 'pr_group_id', 'pr_cat_id', 'pr_subcat_id', 'pr_uom_id', 'st_city_id',\n",
    "    'st_division_code', 'st_type_format_id', 'st_type_loc_id', 'st_type_size_id']]\\\n",
    "        .drop_duplicates()\n",
    "date_grid = date_df.merge(seq_df, how='cross')\n",
    "date_grid.date = pd.to_datetime(date_grid.date)\n",
    "temp_data = date_grid.merge(data[['st_id', 'pr_sku_id', 'date', 'pr_sales_in_units', 'pr_sales_in_rub']],\n",
    " on=['st_id', 'pr_sku_id', 'date'], how='left')"
   ]
  },
  {
   "cell_type": "code",
   "execution_count": 214,
   "metadata": {},
   "outputs": [],
   "source": [
    "data = temp_data.groupby(['date', 'st_id', 'pr_sku_id', 'pr_group_id', 'pr_cat_id',\n",
    "       'pr_subcat_id', 'pr_uom_id', 'st_city_id', 'st_division_code',\n",
    "       'st_type_format_id', 'st_type_loc_id', 'st_type_size_id']).\\\n",
    "              agg(pr_sales_in_units=('pr_sales_in_units', 'sum'),\n",
    "               pr_sales_in_rub=('pr_sales_in_rub', 'sum')).reset_index()"
   ]
  },
  {
   "cell_type": "markdown",
   "metadata": {},
   "source": [
    "новое"
   ]
  },
  {
   "cell_type": "code",
   "execution_count": 215,
   "metadata": {},
   "outputs": [],
   "source": [
    "data['is_promo'] = pd.Series(np.where((data.pr_sales_in_units>np.percentile(data.pr_sales_in_units, 95))\\\n",
    "     & (big_sales.is_holiday==0), 1, 0), index=data.index)\n",
    "data.is_promo = data.is_promo.astype(str)"
   ]
  },
  {
   "cell_type": "code",
   "execution_count": 216,
   "metadata": {},
   "outputs": [],
   "source": [
    "data = data.rename(columns={'pr_sales_in_units': 'target'})"
   ]
  },
  {
   "cell_type": "code",
   "execution_count": 217,
   "metadata": {},
   "outputs": [],
   "source": [
    "data.drop('pr_sales_in_rub', axis=1, inplace=True)"
   ]
  },
  {
   "cell_type": "code",
   "execution_count": 218,
   "metadata": {},
   "outputs": [],
   "source": [
    "sub = pd.read_csv('/Users/maiiayakusheva/Downloads/sp_sales_task/sales_submission.csv')\n",
    "sub.date = pd.to_datetime(sub.date)\n",
    "sub.index = sub.date\n",
    "sub.sort_index(inplace=True)"
   ]
  },
  {
   "cell_type": "code",
   "execution_count": 219,
   "metadata": {},
   "outputs": [],
   "source": [
    "sub = sub.merge(prod, on=['pr_sku_id'], how='left').merge(station, on=['st_id'], how='left')"
   ]
  },
  {
   "cell_type": "code",
   "execution_count": 220,
   "metadata": {},
   "outputs": [],
   "source": [
    "sub['is_promo']=0"
   ]
  },
  {
   "cell_type": "code",
   "execution_count": 221,
   "metadata": {},
   "outputs": [],
   "source": [
    "full = pd.concat([data, sub], axis=0).drop('st_is_active', axis=1)"
   ]
  },
  {
   "cell_type": "code",
   "execution_count": 222,
   "metadata": {},
   "outputs": [],
   "source": [
    "full['is_holiday'] = [1 if str(val).split()[0] in holidays_list else 0 for val in full.date]\n",
    "full.is_holiday = full.is_holiday.astype(str)"
   ]
  },
  {
   "cell_type": "code",
   "execution_count": 223,
   "metadata": {},
   "outputs": [],
   "source": [
    "full['month'] = full.date.dt.month.astype(str)\n",
    "full['day_of_week'] = full.date.dt.day_of_week.astype(str)\n",
    "full['day_of_year'] = full.date.dt.day_of_year.astype(str)\n",
    "full['day'] = full.date.dt.day.astype(str)\n",
    "full['year_end'] = full.date.dt.is_year_end.astype(str)\n",
    "full['year'] = full.date.dt.year.astype(str)"
   ]
  },
  {
   "cell_type": "code",
   "execution_count": 224,
   "metadata": {},
   "outputs": [],
   "source": [
    "class_df = full.copy()\n",
    "class_df['outliers'] = pd.Series(np.where(class_df.target>outliers_threshold, 1, 0))"
   ]
  },
  {
   "cell_type": "code",
   "execution_count": 225,
   "metadata": {},
   "outputs": [
    {
     "data": {
      "text/plain": [
       "0       2023-07-19\n",
       "1       2023-07-19\n",
       "2       2023-07-19\n",
       "3       2023-07-19\n",
       "4       2023-07-19\n",
       "           ...    \n",
       "43689   2023-08-01\n",
       "43690   2023-08-01\n",
       "43691   2023-08-01\n",
       "43692   2023-08-01\n",
       "43693   2023-08-01\n",
       "Name: date, Length: 43694, dtype: datetime64[ns]"
      ]
     },
     "execution_count": 225,
     "metadata": {},
     "output_type": "execute_result"
    }
   ],
   "source": [
    "sub.date"
   ]
  },
  {
   "cell_type": "code",
   "execution_count": 226,
   "metadata": {},
   "outputs": [],
   "source": [
    "train_class = class_df[class_df.date<='2023-07-18']\n",
    "test_class = class_df[class_df.date>'2023-07-18']\n",
    "X_train_class = train_class.drop(['outliers', 'is_promo', 'is_holiday', 'date'], axis=1)\n",
    "y_train_class = train_class.outliers\n",
    "X_test_class = test_class.drop(['outliers', 'is_promo', 'is_holiday', 'date'], axis=1)\n",
    "y_test_class = test_class.outliers"
   ]
  },
  {
   "cell_type": "code",
   "execution_count": 227,
   "metadata": {},
   "outputs": [],
   "source": [
    "cat_col = ['st_id', 'pr_sku_id', 'pr_group_id', 'pr_cat_id', 'pr_subcat_id',\n",
    "       'pr_uom_id', 'st_city_id', 'st_division_code', 'st_type_format_id',\n",
    "       'st_type_loc_id', 'st_type_size_id', 'month', 'day_of_week', 'day_of_year',\n",
    "       'day', 'year_end', 'year']\n",
    "num_col = ['target']"
   ]
  },
  {
   "cell_type": "code",
   "execution_count": 228,
   "metadata": {},
   "outputs": [],
   "source": [
    "enc = TargetEncoder(target_type='continuous', smooth='auto')\n",
    "scaler = StandardScaler()"
   ]
  },
  {
   "cell_type": "code",
   "execution_count": 229,
   "metadata": {},
   "outputs": [],
   "source": [
    "enc.fit(X_train_class[cat_col], y_train_class)\n",
    "enc_cols = enc.get_feature_names_out(X_train_class[cat_col].columns)\n",
    "X_train_class_enc = pd.DataFrame(enc.transform(X_train_class[cat_col]), columns=enc_cols,\n",
    " index=X_train_class[cat_col].index)\n",
    "X_test_class_enc = pd.DataFrame(enc.transform(X_test_class[cat_col]), columns=enc_cols,\n",
    " index=X_test_class[cat_col].index)"
   ]
  },
  {
   "cell_type": "code",
   "execution_count": 230,
   "metadata": {},
   "outputs": [],
   "source": [
    "scaler.fit(X_train_class[num_col])\n",
    "colss = scaler.get_feature_names_out(X_train_class[num_col].columns)\n",
    "X_train_class_scaled = pd.DataFrame(scaler.transform(X_train_class[num_col]), columns=colss,\n",
    " index=X_train_class[num_col].index)\n",
    "X_test_class_scaled = pd.DataFrame(scaler.transform(X_test_class[num_col]), columns=colss,\n",
    " index=X_test_class[num_col].index)\n",
    "X_train_class = pd.concat([X_train_class_enc, X_train_class_scaled], axis=1)\n",
    "X_test_class = pd.concat([X_test_class_enc, X_test_class_scaled], axis=1)"
   ]
  },
  {
   "cell_type": "code",
   "execution_count": 231,
   "metadata": {},
   "outputs": [],
   "source": [
    "scoring = make_scorer(precision_score, greater_is_better=True)\n",
    "tscv = TimeSeriesSplit(n_splits=6)\n",
    "logr = LogisticRegression()\n",
    "parametrs = {}\n",
    "logr_grid = GridSearchCV(logr, parametrs, scoring=scoring, cv=tscv)\n",
    "logr_grid.fit(X_train_class, y_train_class)\n",
    "all_class_preds = logr_grid.best_estimator_.predict_proba(X_train_class)\n",
    "test_class_preds = logr_grid.best_estimator_.predict_proba(X_test_class)[:,1]\n",
    "full['probs'] = pd.Series(all_class_preds[:,1])"
   ]
  },
  {
   "cell_type": "code",
   "execution_count": 232,
   "metadata": {},
   "outputs": [],
   "source": [
    "y_test = full[full.date>'2023-07-18'].target\n",
    "temp_test = full[full.date>'2023-07-18'].drop(['target', 'probs'], axis=1)\n",
    "data = full[full.date<='2023-07-18']\n",
    "temp_test['target']=0\n",
    "temp_test['probs']=test_class_preds\n",
    "data = pd.concat([data, temp_test], axis=0)\n",
    "data = data.sort_values(by=['date', 'st_id', 'pr_sku_id'])"
   ]
  },
  {
   "cell_type": "code",
   "execution_count": 233,
   "metadata": {},
   "outputs": [],
   "source": [
    "data.index = data.date\n",
    "for n in range(14, 36, 7):\n",
    "    data[f'lag{n}'] = data.target\\\n",
    "        .shift(data.date.value_counts().values[0]*n)\n",
    "data.dropna(inplace=True)"
   ]
  },
  {
   "cell_type": "code",
   "execution_count": 234,
   "metadata": {},
   "outputs": [],
   "source": [
    "#data = data[data.date>='2023-06-12']"
   ]
  },
  {
   "cell_type": "code",
   "execution_count": 235,
   "metadata": {},
   "outputs": [],
   "source": [
    "#data.to_csv('/Users/maiiayakusheva/Desktop/data.csv')"
   ]
  },
  {
   "cell_type": "code",
   "execution_count": 236,
   "metadata": {},
   "outputs": [],
   "source": [
    "train_data = data[data.date<='2023-07-18']\n",
    "test_data = data[data.date>'2023-07-18']\n",
    "X = train_data.drop('target' , axis=1)\n",
    "y = train_data.target\n",
    "X_train, X_val, y_train, y_val = train_test_split(X, y, shuffle=False, test_size=0.2)"
   ]
  },
  {
   "cell_type": "code",
   "execution_count": 237,
   "metadata": {},
   "outputs": [],
   "source": [
    "nums = ['lag14', 'lag21', 'lag28', 'lag35', 'probs']\n",
    "cats = ['st_id', 'pr_sku_id', 'pr_group_id', 'pr_cat_id', 'pr_subcat_id', 'pr_uom_id', 'st_city_id',\n",
    "    'st_division_code', 'st_type_format_id', 'st_type_loc_id', 'st_type_size_id', 'is_holiday',\n",
    "    'month', 'day_of_week', 'day_of_year', 'day', 'year_end', 'year']"
   ]
  },
  {
   "cell_type": "code",
   "execution_count": 238,
   "metadata": {},
   "outputs": [],
   "source": [
    "enc.fit(X_train[cats], y_train)\n",
    "new_columns = enc.get_feature_names_out(X_train[cats].columns)\n",
    "X_train_enc = pd.DataFrame(enc.transform(X_train[cats]), columns=new_columns, index=X_train[cats].index)\n",
    "X_val_enc = pd.DataFrame(enc.transform(X_val[cats]), columns=new_columns, index=X_val[cats].index)\n",
    "scaler.fit(X_train[nums])\n",
    "col = scaler.get_feature_names_out(X_train[nums].columns)\n",
    "X_train_scaled = pd.DataFrame(scaler.transform(X_train[nums]), columns=col, index=X_train[nums].index)\n",
    "X_val_scaled = pd.DataFrame(scaler.transform(X_val[nums]), columns=col, index=X_val[nums].index)\n",
    "X_train = pd.concat([X_train_enc, X_train_scaled], axis=1)\n",
    "X_val = pd.concat([X_val_enc, X_val_scaled], axis=1)"
   ]
  },
  {
   "cell_type": "code",
   "execution_count": 239,
   "metadata": {},
   "outputs": [],
   "source": [
    "def wape(y_true, y_pred):\n",
    "    return np.sum(np.abs(y_true-y_pred))/np.sum(np.abs(y_true))\n",
    "score = make_scorer(wape, greater_is_better=False)"
   ]
  },
  {
   "cell_type": "code",
   "execution_count": 240,
   "metadata": {},
   "outputs": [
    {
     "data": {
      "text/plain": [
       "0.405667972177984"
      ]
     },
     "execution_count": 240,
     "metadata": {},
     "output_type": "execute_result"
    }
   ],
   "source": [
    "lgbm = LGBMRegressor(random_state=random_state)\n",
    "parametrs = {'learning_rate': [0.1, 0.01, 0.001, 0.0001]}\n",
    "lgbm_grid = GridSearchCV(lgbm, parametrs, scoring=score, cv=tscv)\n",
    "lgbm_grid.fit(X_train, y_train)\n",
    "wape(y_val, lgbm_grid.best_estimator_.predict(X_val))"
   ]
  },
  {
   "cell_type": "code",
   "execution_count": 243,
   "metadata": {},
   "outputs": [
    {
     "data": {
      "image/png": "[encoded data removed]",
      "text/plain": [
       "<Figure size 700x1000 with 1 Axes>"
      ]
     },
     "metadata": {},
     "output_type": "display_data"
    }
   ],
   "source": [
    "pd.DataFrame(data={'score': lgbm_grid.best_estimator_.feature_importances_}, \n",
    "                      index=X_train.columns).sort_values(by='score').plot(kind='barh', grid=True,\n",
    "                                               figsize=(7,10), legend=False);"
   ]
  },
  {
   "cell_type": "markdown",
   "metadata": {},
   "source": [
    "Модель:"
   ]
  },
  {
   "cell_type": "code",
   "execution_count": 33,
   "metadata": {},
   "outputs": [],
   "source": [
    "#import pickle"
   ]
  },
  {
   "cell_type": "code",
   "execution_count": 34,
   "metadata": {},
   "outputs": [],
   "source": [
    "#filename = 'finalized_model.sav'\n",
    "#pickle.dump(lgbm_grid.best_estimator_, open(filename, 'wb'))"
   ]
  },
  {
   "cell_type": "code",
   "execution_count": 242,
   "metadata": {},
   "outputs": [],
   "source": [
    "X_test = test_data.drop('target', axis=1)\n",
    "X_test_enc = pd.DataFrame(enc.transform(X_test[cats]), columns=new_columns, index=X_test[cats].index)\n",
    "X_test_scaled = pd.DataFrame(scaler.transform(X_test[nums]), columns=col, index=X_test[nums].index)\n",
    "X_test = pd.concat([X_test_enc, X_test_scaled], axis=1)"
   ]
  },
  {
   "cell_type": "code",
   "execution_count": 244,
   "metadata": {},
   "outputs": [],
   "source": [
    "#lgbm_grid.best_estimator_.predict(X_test).to_csv()"
   ]
  },
  {
   "cell_type": "code",
   "execution_count": null,
   "metadata": {},
   "outputs": [],
   "source": []
  }
 ],
 "metadata": {
  "kernelspec": {
   "display_name": "Python 3.9.13 64-bit",
   "language": "python",
   "name": "python3"
  },
  "language_info": {
   "codemirror_mode": {
    "name": "ipython",
    "version": 3
   },
   "file_extension": ".py",
   "mimetype": "text/x-python",
   "name": "python",
   "nbconvert_exporter": "python",
   "pygments_lexer": "ipython3",
   "version": "3.9.13"
  },
  "orig_nbformat": 4,
  "vscode": {
   "interpreter": {
    "hash": "aee8b7b246df8f9039afb4144a1f6fd8d2ca17a180786b69acc140d282b71a49"
   }
  }
 },
 "nbformat": 4,
 "nbformat_minor": 2
}
